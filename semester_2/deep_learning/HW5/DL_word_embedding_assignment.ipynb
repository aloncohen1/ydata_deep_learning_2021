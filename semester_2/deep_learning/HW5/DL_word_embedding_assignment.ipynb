{
  "nbformat": 4,
  "nbformat_minor": 0,
  "metadata": {
    "kernelspec": {
      "display_name": "Python 3",
      "language": "python",
      "name": "python3"
    },
    "language_info": {
      "codemirror_mode": {
        "name": "ipython",
        "version": 3
      },
      "file_extension": ".py",
      "mimetype": "text/x-python",
      "name": "python",
      "nbconvert_exporter": "python",
      "pygments_lexer": "ipython3",
      "version": "3.7.0"
    },
    "colab": {
      "name": "DL_word_embedding_assignment.ipynb",
      "provenance": [],
      "collapsed_sections": [],
      "include_colab_link": true
    }
  },
  "cells": [
    {
      "cell_type": "markdown",
      "metadata": {
        "id": "view-in-github",
        "colab_type": "text"
      },
      "source": [
        "<a href=\"https://colab.research.google.com/github/aloncohen1/ydata_deep_learning_2021/blob/main/semester_2/deep_learning/HW5/DL_word_embedding_assignment.ipynb\" target=\"_parent\"><img src=\"https://colab.research.google.com/assets/colab-badge.svg\" alt=\"Open In Colab\"/></a>"
      ]
    },
    {
      "cell_type": "markdown",
      "metadata": {
        "id": "CPsw5S9o0Sna"
      },
      "source": [
        "# Word Embedding - Home Assigment\n",
        "## Dr. Omri Allouche 2021. YData Deep Learning Course\n",
        "\n",
        "[Open in Google Colab](https://colab.research.google.com/github/omriallouche/ydata_deep_learning_2021/blob/master/assignments/word_vectors_text_classification/DL_word_embedding_assignment.ipynb)\n",
        "\n",
        "    \n",
        "In this exercise, you'll use word vectors trained on a corpus of lyrics of songs from MetroLyrics ([http://github.com/omriallouche/ydata_deep_learning_2021/blob/master/data/metrolyrics.parquet](/data/metrolyrics.parquet)).\n",
        "The dataset contains these fields for each song, in CSV format:\n",
        "1. index\n",
        "1. song\n",
        "1. year\n",
        "1. artist\n",
        "1. genre\n",
        "1. lyrics\n",
        "\n",
        "Before doing this exercise, we recommend that you go over the \"Bag of words meets bag of popcorn\" tutorial (https://www.kaggle.com/c/word2vec-nlp-tutorial)\n",
        "\n",
        "Other recommended resources:\n",
        "- https://rare-technologies.com/word2vec-tutorial/\n",
        "- https://www.kaggle.com/pierremegret/gensim-word2vec-tutorial"
      ]
    },
    {
      "cell_type": "markdown",
      "metadata": {
        "id": "S08yQQVX0Snf"
      },
      "source": [
        "### Train word vectors\n",
        "Train word vectors using the Skipgram Word2vec algorithm and the gensim package.\n",
        "Make sure you perform the following:\n",
        "- Tokenize words\n",
        "- Lowercase all words\n",
        "- Remove punctuation marks\n",
        "- Remove rare words\n",
        "- Remove stopwords\n",
        "\n",
        "Use 300 as the dimension of the word vectors. Try different context sizes."
      ]
    },
    {
      "cell_type": "code",
      "metadata": {
        "id": "Qj1h9Eqv0Sng",
        "colab": {
          "base_uri": "https://localhost:8080/",
          "height": 319
        },
        "outputId": "20f3454e-58e0-4f97-f0f1-c34f9fa0ad5d"
      },
      "source": [
        "import pandas as pd\n",
        "import seaborn as sns\n",
        "import re\n",
        "from nltk.corpus import stopwords\n",
        "from nltk.tokenize import word_tokenize\n",
        "import string\n",
        "import nltk\n",
        "nltk.download('punkt')\n",
        "nltk.download('stopwords')\n",
        "\n",
        "df = pd.read_parquet(\"https://raw.githubusercontent.com/omriallouche/ydata_deep_learning_2021/master/data/metrolyrics.parquet\")\n",
        "df.head()"
      ],
      "execution_count": 2,
      "outputs": [
        {
          "output_type": "stream",
          "text": [
            "[nltk_data] Downloading package punkt to /root/nltk_data...\n",
            "[nltk_data]   Unzipping tokenizers/punkt.zip.\n",
            "[nltk_data] Downloading package stopwords to /root/nltk_data...\n",
            "[nltk_data]   Unzipping corpora/stopwords.zip.\n"
          ],
          "name": "stdout"
        },
        {
          "output_type": "execute_result",
          "data": {
            "text/html": [
              "<div>\n",
              "<style scoped>\n",
              "    .dataframe tbody tr th:only-of-type {\n",
              "        vertical-align: middle;\n",
              "    }\n",
              "\n",
              "    .dataframe tbody tr th {\n",
              "        vertical-align: top;\n",
              "    }\n",
              "\n",
              "    .dataframe thead th {\n",
              "        text-align: right;\n",
              "    }\n",
              "</style>\n",
              "<table border=\"1\" class=\"dataframe\">\n",
              "  <thead>\n",
              "    <tr style=\"text-align: right;\">\n",
              "      <th></th>\n",
              "      <th>song</th>\n",
              "      <th>year</th>\n",
              "      <th>artist</th>\n",
              "      <th>genre</th>\n",
              "      <th>lyrics</th>\n",
              "      <th>num_chars</th>\n",
              "      <th>sent</th>\n",
              "      <th>num_words</th>\n",
              "    </tr>\n",
              "  </thead>\n",
              "  <tbody>\n",
              "    <tr>\n",
              "      <th>204182</th>\n",
              "      <td>fully-dressed</td>\n",
              "      <td>2008</td>\n",
              "      <td>annie</td>\n",
              "      <td>Pop</td>\n",
              "      <td>[HEALY]\\n[spoken] This is Bert Healy saying .....</td>\n",
              "      <td>1041</td>\n",
              "      <td>healy spoken this bert healy saying singing he...</td>\n",
              "      <td>826</td>\n",
              "    </tr>\n",
              "    <tr>\n",
              "      <th>6116</th>\n",
              "      <td>surrounded-by-hoes</td>\n",
              "      <td>2006</td>\n",
              "      <td>50-cent</td>\n",
              "      <td>Hip-Hop</td>\n",
              "      <td>[Chorus: repeat 2X] Even when I'm tryin to be ...</td>\n",
              "      <td>1392</td>\n",
              "      <td>chorus repeat x even i tryin low i recognized ...</td>\n",
              "      <td>884</td>\n",
              "    </tr>\n",
              "    <tr>\n",
              "      <th>166369</th>\n",
              "      <td>taste-the-tears-thunderpuss-remix</td>\n",
              "      <td>2006</td>\n",
              "      <td>amber</td>\n",
              "      <td>Pop</td>\n",
              "      <td>How could you cause me so much pain?\\nAnd leav...</td>\n",
              "      <td>1113</td>\n",
              "      <td>how could cause much pain and leave heart rain...</td>\n",
              "      <td>756</td>\n",
              "    </tr>\n",
              "    <tr>\n",
              "      <th>198416</th>\n",
              "      <td>the-truth-will-set-me-free</td>\n",
              "      <td>2006</td>\n",
              "      <td>glenn-hughes</td>\n",
              "      <td>Rock</td>\n",
              "      <td>In a scarlet vision\\nIn a velvet room\\nI come ...</td>\n",
              "      <td>779</td>\n",
              "      <td>in scarlet vision in velvet room i come decisi...</td>\n",
              "      <td>583</td>\n",
              "    </tr>\n",
              "    <tr>\n",
              "      <th>127800</th>\n",
              "      <td>the-last-goodbye</td>\n",
              "      <td>2008</td>\n",
              "      <td>aaron-pritchett</td>\n",
              "      <td>Country</td>\n",
              "      <td>Sprintime in Savannah\\nIt dont get much pretti...</td>\n",
              "      <td>881</td>\n",
              "      <td>sprintime savannah it dont get much prettier b...</td>\n",
              "      <td>639</td>\n",
              "    </tr>\n",
              "  </tbody>\n",
              "</table>\n",
              "</div>"
            ],
            "text/plain": [
              "                                     song  ...  num_words\n",
              "204182                      fully-dressed  ...        826\n",
              "6116                   surrounded-by-hoes  ...        884\n",
              "166369  taste-the-tears-thunderpuss-remix  ...        756\n",
              "198416         the-truth-will-set-me-free  ...        583\n",
              "127800                   the-last-goodbye  ...        639\n",
              "\n",
              "[5 rows x 8 columns]"
            ]
          },
          "metadata": {
            "tags": []
          },
          "execution_count": 2
        }
      ]
    },
    {
      "cell_type": "code",
      "metadata": {
        "id": "X64PMvH406Qn"
      },
      "source": [
        "all_words_list = set()\n",
        "\n",
        "def process_text(text):\n",
        "\n",
        "  text = word_tokenize(re.sub(\"[^A-Za-z']+\", ' ', str(text))).lower() # lowercasing and tokenization\n",
        "  text = [word.translate(str.maketrans('', '', string.punctuation)).strip() for word in text] # remove punctuation\n",
        "  text = [word for word in text if word not in stopwords.words('english') and word is not ''] # remove stopwords\n",
        "\n",
        "  all_words_list.update(set(text))\n",
        "\n",
        "  return ' '.join(text)\n",
        "\n",
        "\n",
        "df['clean_lyrics'] = df.apply(lambda x: process_text(x['lyrics']), axis=1)"
      ],
      "execution_count": 22,
      "outputs": []
    },
    {
      "cell_type": "code",
      "metadata": {
        "id": "VGax7KYGRPGK"
      },
      "source": [
        "sent = [row.split() for row in df['clean_lyrics']]"
      ],
      "execution_count": 30,
      "outputs": []
    },
    {
      "cell_type": "code",
      "metadata": {
        "id": "g8iMrg8D_xns"
      },
      "source": [
        "from gensim.models import Word2Vec\n",
        "from gensim.models.phrases import Phrases, Phraser\n",
        "\n",
        "phrases = Phrases(sent, min_count=30, progress_per=10000)"
      ],
      "execution_count": 35,
      "outputs": []
    },
    {
      "cell_type": "code",
      "metadata": {
        "id": "SeVlrq7PULwb"
      },
      "source": [
        "bigram = Phraser(phrases)\n",
        "sentences = bigram[sent]"
      ],
      "execution_count": 37,
      "outputs": []
    },
    {
      "cell_type": "code",
      "metadata": {
        "colab": {
          "base_uri": "https://localhost:8080/"
        },
        "id": "MPT1ZElaTCwF",
        "outputId": "558aca6d-4fb5-466d-c6be-7d6cf3225bf0"
      },
      "source": [
        "from time import time\n",
        "\n",
        "w2v_model = Word2Vec(min_count=20,\n",
        "                     window=2,\n",
        "                     size=300,\n",
        "                     sample=6e-5, \n",
        "                     alpha=0.03, \n",
        "                     min_alpha=0.0007, \n",
        "                     negative=20,\n",
        "                     workers=cores-1)\n",
        "\n",
        "t = time()\n",
        "\n",
        "w2v_model.build_vocab(sentences, progress_per=10000)\n",
        "\n",
        "print('Time to build vocab: {} mins'.format(round((time() - t) / 60, 2)))"
      ],
      "execution_count": 40,
      "outputs": [
        {
          "output_type": "stream",
          "text": [
            "Time to build vocab: 0.45 mins\n"
          ],
          "name": "stdout"
        }
      ]
    },
    {
      "cell_type": "code",
      "metadata": {
        "colab": {
          "base_uri": "https://localhost:8080/"
        },
        "id": "WFHIwnH5TJdu",
        "outputId": "a5b3fb7f-5b32-40b0-bdae-2310ba7ed7dc"
      },
      "source": [
        "t = time()\n",
        "\n",
        "w2v_model.train(sentences, total_examples=w2v_model.corpus_count, epochs=30, report_delay=1)\n",
        "\n",
        "print('Time to train the model: {} mins'.format(round((time() - t) / 60, 2)))"
      ],
      "execution_count": 41,
      "outputs": [
        {
          "output_type": "stream",
          "text": [
            "Time to train the model: 25.23 mins\n"
          ],
          "name": "stdout"
        }
      ]
    },
    {
      "cell_type": "code",
      "metadata": {
        "id": "GH9cLedPcVQ6"
      },
      "source": [
        "w2v_model.save('w2v_model.model')"
      ],
      "execution_count": 42,
      "outputs": []
    },
    {
      "cell_type": "code",
      "metadata": {
        "id": "3ENXieLidNMl"
      },
      "source": [
        "from gensim.models import KeyedVectors\n",
        "w2v_model = KeyedVectors.load(\"w2v_model.model\")"
      ],
      "execution_count": 1,
      "outputs": []
    },
    {
      "cell_type": "markdown",
      "metadata": {
        "id": "jPGymCyU0Sng"
      },
      "source": [
        "### Review most similar words\n",
        "Get initial evaluation of the word vectors by analyzing the most similar words for a few interesting words in the text. \n",
        "\n",
        "Choose words yourself, and find the most similar words to them."
      ]
    },
    {
      "cell_type": "code",
      "metadata": {
        "id": "XX-M5mqQ0Snh",
        "colab": {
          "base_uri": "https://localhost:8080/"
        },
        "outputId": "f778b289-2824-46b8-b334-f02b7674e249"
      },
      "source": [
        "print(w2v_model.wv.most_similar('mother',topn=3))\n",
        "print(w2v_model.wv.most_similar('joke',topn=3))\n",
        "print(w2v_model.wv.most_similar('stop',topn=3))"
      ],
      "execution_count": 9,
      "outputs": [
        {
          "output_type": "stream",
          "text": [
            "[('father', 0.48190930485725403), ('brother', 0.41736847162246704), ('child', 0.39826399087905884)]\n",
            "[('broke', 0.36072659492492676), ('funny', 0.3560766279697418), ('comedian', 0.2867908179759979)]\n",
            "[('cause', 0.5850833058357239), ('keep', 0.5623694658279419), ('know', 0.5231946110725403)]\n"
          ],
          "name": "stdout"
        }
      ]
    },
    {
      "cell_type": "markdown",
      "metadata": {
        "id": "J4Vxfk8h0Snh"
      },
      "source": [
        "### Word Vectors Algebra\n",
        "We've seen in class examples of algebraic games on the word vectors (e.g. man - woman + king = queen ). \n",
        "\n",
        "Try a few vector algebra terms, and evaluate how well they work. Try to use the Cosine distance and compare it to the Euclidean distance."
      ]
    },
    {
      "cell_type": "code",
      "metadata": {
        "id": "PQ895pW10Snh",
        "colab": {
          "base_uri": "https://localhost:8080/"
        },
        "outputId": "f8f3c58a-e09a-4f16-e7a6-c6cc4f6c25d4"
      },
      "source": [
        "print(w2v_model.wv.most_similar(positive=[\"mother\", \"man\"], negative=[\"woman\"], topn=3))\n",
        "print(w2v_model.wv.most_similar(positive=[\"father\", \"woman\"], negative=[\"man\"], topn=3))\n",
        "print(w2v_model.wv.most_similar(positive=[\"king\", \"woman\"], negative=[\"man\"], topn=3))"
      ],
      "execution_count": 13,
      "outputs": [
        {
          "output_type": "stream",
          "text": [
            "[('brother', 0.4154040217399597), ('fuck', 0.39607614278793335), ('shit', 0.3740338385105133)]\n",
            "[('mother', 0.34044840931892395), ('father_father', 0.33039313554763794), ('grace', 0.3256756365299225)]\n",
            "[('queen', 0.3891682028770447), ('martin_luther', 0.3173820376396179), ('princess', 0.3081028163433075)]\n"
          ],
          "name": "stdout"
        }
      ]
    },
    {
      "cell_type": "markdown",
      "metadata": {
        "id": "ugfClpwb0Snh"
      },
      "source": [
        "## Sentiment Analysis\n",
        "Estimate sentiment of words using word vectors.  \n",
        "In this section, we'll use the SemEval-2015 English Twitter Sentiment Lexicon.  \n",
        "The lexicon was used as an official test set in the SemEval-2015 shared Task #10: Subtask E, and contains a polarity score for words in range -1 (negative) to 1 (positive) - http://saifmohammad.com/WebPages/SCL.html#OPP"
      ]
    },
    {
      "cell_type": "markdown",
      "metadata": {
        "id": "Er4AydIP0Sni"
      },
      "source": [
        "Build a classifier for the sentiment of a word given its word vector. Split the data to a train and test sets, and report the model performance on both sets."
      ]
    },
    {
      "cell_type": "code",
      "metadata": {
        "id": "MDRuRhOH0Sni"
      },
      "source": [
        "# get data\n",
        "from io import BytesIO\n",
        "from zipfile import ZipFile\n",
        "from urllib.request import urlopen\n",
        "\n",
        "\n",
        "sentiments_list = []\n",
        "\n",
        "resp = urlopen(download_url)\n",
        "zipfile = ZipFile(BytesIO(resp.read()))\n",
        "file_name = zipfile.namelist()[-1]\n",
        "\n",
        "negators = zipfile.namelist()[-2]\n",
        "negators = zipfile.open(negators).readlines()\n",
        "negators = [line.decode('utf-8').split()[0] for line in negators]\n",
        "\n",
        "for line in zipfile.open(file_name).readlines():\n",
        "  line = line.decode('utf-8').replace('#','').split()\n",
        "  score = float(line[0])\n",
        "  text = ' '.join(line[1:]).strip()\n",
        "  word_a = text.split()[0]\n",
        "  word_b = text.split()[1] if len(line) > 2 else None\n",
        "  \n",
        "  sentiments_list.append({'score': score,\n",
        "                          'text':text,\n",
        "                          'word_a':word_a,\n",
        "                          'word_b':word_b})"
      ],
      "execution_count": 93,
      "outputs": []
    },
    {
      "cell_type": "code",
      "metadata": {
        "colab": {
          "base_uri": "https://localhost:8080/",
          "height": 198
        },
        "id": "eezD0IZrnTSi",
        "outputId": "42cd2832-41b5-4c74-d5a6-e3eced96a6f1"
      },
      "source": [
        "# parse data\n",
        "sentiment_df = pd.DataFrame(sentiments_list)\n",
        "sentiment_df['words_for_train'] = sentiment_df.apply(lambda x: x['word_b'] if x['word_b'] else x['word_a'],axis=1)\n",
        "sentiment_df['isin_vocab'] = sentiment_df.apply(lambda x: x['words_for_train'] in w2v_model.wv.vocab.keys(),axis=1)\n",
        "sentiment_df = sentiment_df[sentiment_df['isin_vocab']]\n",
        "sentiment_df['has_negators'] = sentiment_df.apply(lambda x: x['word_a'] in negators if x['word_b'] else False,axis=1)\n",
        "\n",
        "sentiment_df['word_v'] = sentiment_df.apply(lambda x: w2v_model.wv.get_vector(x['words_for_train']),axis=1)\n",
        "sentiment_df.head()"
      ],
      "execution_count": 96,
      "outputs": [
        {
          "output_type": "execute_result",
          "data": {
            "text/html": [
              "<div>\n",
              "<style scoped>\n",
              "    .dataframe tbody tr th:only-of-type {\n",
              "        vertical-align: middle;\n",
              "    }\n",
              "\n",
              "    .dataframe tbody tr th {\n",
              "        vertical-align: top;\n",
              "    }\n",
              "\n",
              "    .dataframe thead th {\n",
              "        text-align: right;\n",
              "    }\n",
              "</style>\n",
              "<table border=\"1\" class=\"dataframe\">\n",
              "  <thead>\n",
              "    <tr style=\"text-align: right;\">\n",
              "      <th></th>\n",
              "      <th>score</th>\n",
              "      <th>text</th>\n",
              "      <th>word_a</th>\n",
              "      <th>word_b</th>\n",
              "      <th>words_for_train</th>\n",
              "      <th>isin_vocab</th>\n",
              "      <th>has_negators</th>\n",
              "      <th>word_v</th>\n",
              "    </tr>\n",
              "  </thead>\n",
              "  <tbody>\n",
              "    <tr>\n",
              "      <th>0</th>\n",
              "      <td>0.984</td>\n",
              "      <td>loves</td>\n",
              "      <td>loves</td>\n",
              "      <td>None</td>\n",
              "      <td>loves</td>\n",
              "      <td>True</td>\n",
              "      <td>False</td>\n",
              "      <td>[0.039917566, -0.19262722, -1.5087744, -0.6006...</td>\n",
              "    </tr>\n",
              "    <tr>\n",
              "      <th>2</th>\n",
              "      <td>0.969</td>\n",
              "      <td>amazing</td>\n",
              "      <td>amazing</td>\n",
              "      <td>None</td>\n",
              "      <td>amazing</td>\n",
              "      <td>True</td>\n",
              "      <td>False</td>\n",
              "      <td>[-1.1648709, -0.28753403, -0.4908852, -0.99061...</td>\n",
              "    </tr>\n",
              "    <tr>\n",
              "      <th>3</th>\n",
              "      <td>0.969</td>\n",
              "      <td>peaceful</td>\n",
              "      <td>peaceful</td>\n",
              "      <td>None</td>\n",
              "      <td>peaceful</td>\n",
              "      <td>True</td>\n",
              "      <td>False</td>\n",
              "      <td>[-0.023836747, -0.476886, -0.22323118, -1.2462...</td>\n",
              "    </tr>\n",
              "    <tr>\n",
              "      <th>4</th>\n",
              "      <td>0.953</td>\n",
              "      <td>greatness</td>\n",
              "      <td>greatness</td>\n",
              "      <td>None</td>\n",
              "      <td>greatness</td>\n",
              "      <td>True</td>\n",
              "      <td>False</td>\n",
              "      <td>[1.0555886, -1.1125934, -0.05948353, -1.023635...</td>\n",
              "    </tr>\n",
              "    <tr>\n",
              "      <th>5</th>\n",
              "      <td>0.938</td>\n",
              "      <td>fantastic</td>\n",
              "      <td>fantastic</td>\n",
              "      <td>None</td>\n",
              "      <td>fantastic</td>\n",
              "      <td>True</td>\n",
              "      <td>False</td>\n",
              "      <td>[-0.29725134, 0.38916177, -0.21154138, 1.04324...</td>\n",
              "    </tr>\n",
              "  </tbody>\n",
              "</table>\n",
              "</div>"
            ],
            "text/plain": [
              "   score  ...                                             word_v\n",
              "0  0.984  ...  [0.039917566, -0.19262722, -1.5087744, -0.6006...\n",
              "2  0.969  ...  [-1.1648709, -0.28753403, -0.4908852, -0.99061...\n",
              "3  0.969  ...  [-0.023836747, -0.476886, -0.22323118, -1.2462...\n",
              "4  0.953  ...  [1.0555886, -1.1125934, -0.05948353, -1.023635...\n",
              "5  0.938  ...  [-0.29725134, 0.38916177, -0.21154138, 1.04324...\n",
              "\n",
              "[5 rows x 8 columns]"
            ]
          },
          "metadata": {
            "tags": []
          },
          "execution_count": 96
        }
      ]
    },
    {
      "cell_type": "code",
      "metadata": {
        "colab": {
          "base_uri": "https://localhost:8080/",
          "height": 215
        },
        "id": "vG5d14QUutEO",
        "outputId": "58eddf9d-b890-4ab8-b762-5121003dc599"
      },
      "source": [
        "#train model\n",
        "from sklearn.model_selection import train_test_split\n",
        "import xgboost as xgb\n",
        "\n",
        "X_train, X_test, y_train, y_test = train_test_split(sentiment_df['word_v'].apply(pd.Series), \n",
        "                                                    sentiment_df['score'], \n",
        "                                                    test_size=0.33, \n",
        "                                                    random_state=42)\n",
        "\n",
        "clf = xgb.XGBRegressor(objective ='reg:linear', colsample_bytree = 0.3, \n",
        "                       learning_rate = 0.1,\n",
        "                       max_depth = 5,\n",
        "                       alpha = 10,\n",
        "                       n_estimators = 10)\n",
        "\n",
        "clf.fit(X_train,y_train)\n",
        "preds = clf.predict(X_test)\n",
        "\n",
        "preds_df = pd.DataFrame(zip(preds, y_test, y_test.index),columns=['preds','actual','index'])\n",
        "preds_df = preds_df.merge(sentiment_df['has_negators'],left_on=['index'],right_index=True,how='left')\n",
        "# preds_df.loc[preds_df[\"has_negators\"], \"preds\"] *=-1.0\n",
        "\n",
        "preds_df.head()"
      ],
      "execution_count": 139,
      "outputs": [
        {
          "output_type": "stream",
          "text": [
            "[21:52:58] WARNING: /workspace/src/objective/regression_obj.cu:152: reg:linear is now deprecated in favor of reg:squarederror.\n"
          ],
          "name": "stdout"
        },
        {
          "output_type": "execute_result",
          "data": {
            "text/html": [
              "<div>\n",
              "<style scoped>\n",
              "    .dataframe tbody tr th:only-of-type {\n",
              "        vertical-align: middle;\n",
              "    }\n",
              "\n",
              "    .dataframe tbody tr th {\n",
              "        vertical-align: top;\n",
              "    }\n",
              "\n",
              "    .dataframe thead th {\n",
              "        text-align: right;\n",
              "    }\n",
              "</style>\n",
              "<table border=\"1\" class=\"dataframe\">\n",
              "  <thead>\n",
              "    <tr style=\"text-align: right;\">\n",
              "      <th></th>\n",
              "      <th>preds</th>\n",
              "      <th>actual</th>\n",
              "      <th>index</th>\n",
              "      <th>has_negators</th>\n",
              "    </tr>\n",
              "  </thead>\n",
              "  <tbody>\n",
              "    <tr>\n",
              "      <th>0</th>\n",
              "      <td>0.201677</td>\n",
              "      <td>0.266</td>\n",
              "      <td>493</td>\n",
              "      <td>False</td>\n",
              "    </tr>\n",
              "    <tr>\n",
              "      <th>1</th>\n",
              "      <td>0.059057</td>\n",
              "      <td>-0.172</td>\n",
              "      <td>937</td>\n",
              "      <td>False</td>\n",
              "    </tr>\n",
              "    <tr>\n",
              "      <th>2</th>\n",
              "      <td>0.324986</td>\n",
              "      <td>0.172</td>\n",
              "      <td>601</td>\n",
              "      <td>False</td>\n",
              "    </tr>\n",
              "    <tr>\n",
              "      <th>3</th>\n",
              "      <td>0.194144</td>\n",
              "      <td>-0.328</td>\n",
              "      <td>1068</td>\n",
              "      <td>True</td>\n",
              "    </tr>\n",
              "    <tr>\n",
              "      <th>4</th>\n",
              "      <td>0.266613</td>\n",
              "      <td>0.406</td>\n",
              "      <td>380</td>\n",
              "      <td>False</td>\n",
              "    </tr>\n",
              "  </tbody>\n",
              "</table>\n",
              "</div>"
            ],
            "text/plain": [
              "      preds  actual  index  has_negators\n",
              "0  0.201677   0.266    493         False\n",
              "1  0.059057  -0.172    937         False\n",
              "2  0.324986   0.172    601         False\n",
              "3  0.194144  -0.328   1068          True\n",
              "4  0.266613   0.406    380         False"
            ]
          },
          "metadata": {
            "tags": []
          },
          "execution_count": 139
        }
      ]
    },
    {
      "cell_type": "code",
      "metadata": {
        "colab": {
          "base_uri": "https://localhost:8080/",
          "height": 314
        },
        "id": "5v4xXsBBxPvq",
        "outputId": "3316f776-5337-4bc9-f857-4328b0bbb1b2"
      },
      "source": [
        "from sklearn.metrics import mean_absolute_error\n",
        "\n",
        "sns.scatterplot(data=preds_df,x='preds',y='actual');\n",
        "print('correlation - %s' % preds_df[['preds','actual']].corr().loc['actual','preds']);\n",
        "print('mean_absolute_error - %s' % mean_absolute_error(preds_df['preds'],preds_df['actual']))"
      ],
      "execution_count": 142,
      "outputs": [
        {
          "output_type": "stream",
          "text": [
            "correlation - 0.3532873029514073\n",
            "mean_absolute_error - 0.3825378084156467\n"
          ],
          "name": "stdout"
        },
        {
          "output_type": "display_data",
          "data": {
            "image/png": "[encoded data removed]",
            "text/plain": [
              "<Figure size 432x288 with 1 Axes>"
            ]
          },
          "metadata": {
            "tags": [],
            "needs_background": "light"
          }
        }
      ]
    },
    {
      "cell_type": "markdown",
      "metadata": {
        "id": "lWS_2NrU0Sni"
      },
      "source": [
        "Use your trained model from the previous question to predict the sentiment score of words in the lyrics corpus that are not part of the original sentiment dataset. Review the words with the highest positive and negative sentiment. Do the results make sense?"
      ]
    },
    {
      "cell_type": "code",
      "metadata": {
        "id": "9qQpSvw40Sni"
      },
      "source": [
        ""
      ],
      "execution_count": null,
      "outputs": []
    },
    {
      "cell_type": "markdown",
      "metadata": {
        "id": "ZJZFrEm80Snj"
      },
      "source": [
        "### Visualize Word Vectors\n",
        "In this section, you'll plot words on a 2D grid based on their inner similarity. We'll use the tSNE transformation to reduce dimensions from 300 to 2. You can get sample code from https://www.kaggle.com/pierremegret/gensim-word2vec-tutorial or other tutorials online.\n",
        "\n",
        "Perform the following:\n",
        "- Keep only the 3,000 most frequent words (after removing stopwords)\n",
        "- For this list, compute for each word its relative abundance in each of the genres\n",
        "- Compute the ratio between the proportion of each word in each genre and the proportion of the word in the entire corpus (the background distribution)\n",
        "- Pick the top 50 words for each genre. These words give good indication for that genre. Join the words from all genres into a single list of top significant words. \n",
        "- Compute tSNE transformation to 2D for all words, based on their word vectors\n",
        "- Plot the list of the top significant words in 2D. Next to each word output its text. The color of each point should indicate the genre for which it is most significant.\n",
        "\n",
        "You might prefer to use a different number of points or a slightly different methodology for improved results.  \n",
        "Analyze the results."
      ]
    },
    {
      "cell_type": "code",
      "metadata": {
        "id": "k6QRS7Y20Snj"
      },
      "source": [
        ""
      ],
      "execution_count": null,
      "outputs": []
    },
    {
      "cell_type": "markdown",
      "metadata": {
        "id": "uRXNLkOT0Snj"
      },
      "source": [
        "## Text Classification\n",
        "In this section, you'll build a text classifier, determining the genre of a song based on its lyrics."
      ]
    },
    {
      "cell_type": "markdown",
      "metadata": {
        "id": "VIdnGd400Snj"
      },
      "source": [
        "### Text classification using Bag-of-Words\n",
        "Build a Naive Bayes classifier based on the bag of Words.  \n",
        "You will need to divide your dataset into a train and test sets."
      ]
    },
    {
      "cell_type": "code",
      "metadata": {
        "id": "wXoJJ0A40Snj"
      },
      "source": [
        ""
      ],
      "execution_count": null,
      "outputs": []
    },
    {
      "cell_type": "markdown",
      "metadata": {
        "id": "Adk4iqDZ0Snk"
      },
      "source": [
        "Show the confusion matrix."
      ]
    },
    {
      "cell_type": "code",
      "metadata": {
        "id": "lG3wlmap0Snk"
      },
      "source": [
        ""
      ],
      "execution_count": null,
      "outputs": []
    },
    {
      "cell_type": "markdown",
      "metadata": {
        "id": "Q3ZvAhxW0Snk"
      },
      "source": [
        "Show the classification report - precision, recall, f1 for each class."
      ]
    },
    {
      "cell_type": "code",
      "metadata": {
        "id": "kvqae0TN0Snk"
      },
      "source": [
        ""
      ],
      "execution_count": null,
      "outputs": []
    },
    {
      "cell_type": "markdown",
      "metadata": {
        "id": "P_7-WYlk0Snk"
      },
      "source": [
        "### Text classification using Word Vectors\n",
        "#### Average word vectors\n",
        "Do the same, using a classifier that averages the word vectors of words in the document."
      ]
    },
    {
      "cell_type": "code",
      "metadata": {
        "id": "JhKavd9q0Snk"
      },
      "source": [
        ""
      ],
      "execution_count": null,
      "outputs": []
    },
    {
      "cell_type": "markdown",
      "metadata": {
        "id": "KazIor0O0Snk"
      },
      "source": [
        "#### TfIdf Weighting\n",
        "Do the same, using a classifier that averages the word vectors of words in the document, weighting each word by its TfIdf.\n"
      ]
    },
    {
      "cell_type": "code",
      "metadata": {
        "id": "thnJtL180Snl"
      },
      "source": [
        ""
      ],
      "execution_count": null,
      "outputs": []
    },
    {
      "cell_type": "markdown",
      "metadata": {
        "id": "95S2hUxA0Snl"
      },
      "source": [
        "### Text classification using ConvNet\n",
        "Do the same, using a ConvNet.  \n",
        "The ConvNet should get as input a 2D matrix where each column is an embedding vector of a single word, and words are in order. Use zero padding so that all matrices have a similar length.  \n",
        "Some songs might be very long. Trim them so you keep a maximum of 128 words (after cleaning stop words and rare words).  \n",
        "Initialize the embedding layer using the word vectors that you've trained before, but allow them to change during training.  \n",
        "\n",
        "Extra: Try training the ConvNet with 2 slight modifications:\n",
        "1. freezing the the weights trained using Word2vec (preventing it from updating)\n",
        "1. random initialization of the embedding layer"
      ]
    },
    {
      "cell_type": "markdown",
      "metadata": {
        "id": "7EaIO7YE0Snl"
      },
      "source": [
        "You are encouraged to try this question on your own.  \n",
        "\n",
        "You might prefer to get ideas from the paper \"Convolutional Neural Networks for Sentence Classification\" (Kim 2014, [link](https://arxiv.org/abs/1408.5882)).\n",
        "\n",
        "There are several implementations of the paper code in PyTorch online (see for example [this repo](https://github.com/prakashpandey9/Text-Classification-Pytorch) for a PyTorch implementation of CNN and other architectures for text classification). If you get stuck, they might provide you with a reference for your own code."
      ]
    },
    {
      "cell_type": "code",
      "metadata": {
        "id": "Ls0-0BHO0Snl"
      },
      "source": [
        ""
      ],
      "execution_count": null,
      "outputs": []
    }
  ]
}